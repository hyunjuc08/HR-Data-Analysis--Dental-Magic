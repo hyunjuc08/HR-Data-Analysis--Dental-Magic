{
 "cells": [
  {
   "cell_type": "code",
   "execution_count": null,
   "metadata": {},
   "outputs": [],
   "source": [
    "import os\n",
    "import geopandas as gpd\n",
    "import zipfile\n",
    "import io\n",
    "import matplotlib.pyplot as plt\n",
    "%matplotlib inline"
   ]
  },
  {
   "cell_type": "code",
   "execution_count": null,
   "metadata": {},
   "outputs": [],
   "source": [
    "shp = 'census_data/cb_2017_25_cousub_500k/cb_2017_25_cousub_500k.shp'\n",
    "ma = gpd.read_file(shp)\n",
    "print(\"Shape of the dataframe: {}\".format(ma.shape))\n",
    "print(\"Projection of dataframe: {}\".format(ma.crs))\n",
    "ma.tail(15)"
   ]
  },
  {
   "cell_type": "code",
   "execution_count": null,
   "metadata": {},
   "outputs": [],
   "source": [
    "ax = ma.plot()\n",
    "ax.set_title(\"Massachusetts - Default view\");"
   ]
  },
  {
   "cell_type": "code",
   "execution_count": null,
   "metadata": {},
   "outputs": [],
   "source": [
    "ma_cty = ma[ma.COUNTYFP=='027']\n",
    "ax = ma_cty.plot(figsize=(10,10), column='ALAND', cmap=\"tab20b\", scheme='quantiles', legend=True)\n",
    "\n",
    "#removes axes\n",
    "ax.set(xticks=[], yticks=[])\n",
    "ax.set_title(\"MA Counties\", fontsize='large')\n",
    "\n",
    "#add the legend and specify its location\n",
    "leg = ax.get_legend()\n",
    "leg.set_bbox_to_anchor((0.5,0.3))"
   ]
  },
  {
   "cell_type": "code",
   "execution_count": null,
   "metadata": {},
   "outputs": [],
   "source": []
  }
 ],
 "metadata": {
  "kernelspec": {
   "display_name": "Python 3",
   "language": "python",
   "name": "python3"
  },
  "language_info": {
   "codemirror_mode": {
    "name": "ipython",
    "version": 3
   },
   "file_extension": ".py",
   "mimetype": "text/x-python",
   "name": "python",
   "nbconvert_exporter": "python",
   "pygments_lexer": "ipython3",
   "version": "3.6.4"
  }
 },
 "nbformat": 4,
 "nbformat_minor": 2
}
